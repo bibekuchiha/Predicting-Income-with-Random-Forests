{
  "nbformat": 4,
  "nbformat_minor": 0,
  "metadata": {
    "colab": {
      "name": "income.ipynb",
      "provenance": [],
      "authorship_tag": "ABX9TyNL72oy5B6BBNVE3RvZqaA+",
      "include_colab_link": true
    },
    "kernelspec": {
      "name": "python3",
      "display_name": "Python 3"
    }
  },
  "cells": [
    {
      "cell_type": "markdown",
      "metadata": {
        "id": "view-in-github",
        "colab_type": "text"
      },
      "source": [
        "<a href=\"https://colab.research.google.com/github/bibekuchiha/Predicting-Income-with-Random-Forests/blob/master/income.ipynb\" target=\"_parent\"><img src=\"https://colab.research.google.com/assets/colab-badge.svg\" alt=\"Open In Colab\"/></a>"
      ]
    },
    {
      "cell_type": "code",
      "metadata": {
        "id": "IO25uSUiZBfb",
        "colab_type": "code",
        "colab": {}
      },
      "source": [
        "def warn(*args, **kwargs):\n",
        "    pass\n",
        "import warnings\n",
        "warnings.warn = warn\n",
        "\n",
        "import pandas as pd\n",
        "from sklearn.model_selection import train_test_split\n",
        "from sklearn import tree\n",
        "from sklearn.ensemble import RandomForestClassifier"
      ],
      "execution_count": 16,
      "outputs": []
    },
    {
      "cell_type": "code",
      "metadata": {
        "id": "SEsT2CJTZglf",
        "colab_type": "code",
        "colab": {
          "base_uri": "https://localhost:8080/",
          "height": 289
        },
        "outputId": "c9ff84fe-ce64-4627-de5b-574d67d71c75"
      },
      "source": [
        "#import csv to pandas dataframe\n",
        "income_data=pd.read_csv(\"income.csv\",header=0, delimiter = \", \")\n",
        "\n",
        "print(income_data.iloc[0])\n"
      ],
      "execution_count": 18,
      "outputs": [
        {
          "output_type": "stream",
          "text": [
            "age                          39\n",
            "workclass             State-gov\n",
            "fnlwgt                    77516\n",
            "education             Bachelors\n",
            "education-num                13\n",
            "marital-status    Never-married\n",
            "occupation         Adm-clerical\n",
            "relationship      Not-in-family\n",
            "race                      White\n",
            "sex                        Male\n",
            "capital-gain               2174\n",
            "capital-loss                  0\n",
            "hours-per-week               40\n",
            "native-country    United-States\n",
            "income                    <=50K\n",
            "Name: 0, dtype: object\n"
          ],
          "name": "stdout"
        }
      ]
    },
    {
      "cell_type": "code",
      "metadata": {
        "id": "iglpz9bTa0jV",
        "colab_type": "code",
        "colab": {}
      },
      "source": [
        "#Converting age String to Inrt\n",
        "income_data[\"sex-int\"] = income_data[\"sex\"].apply(lambda row: 0 if row == \"Male\" else 1)\n",
        "income_data[\"race-int\"] = income_data[\"race\"].apply(lambda row: 0 if row == \"White\" else 1)"
      ],
      "execution_count": 19,
      "outputs": []
    },
    {
      "cell_type": "code",
      "metadata": {
        "id": "92Ixjb2jco_6",
        "colab_type": "code",
        "colab": {}
      },
      "source": [
        "# divide the results and data for prediction\n",
        "labels = income_data[[\"income\"]]\n",
        "data = income_data[[\"capital-gain\",\"capital-loss\",\"hours-per-week\",\"sex-int\",\"age\",\"race-int\"]]"
      ],
      "execution_count": 20,
      "outputs": []
    },
    {
      "cell_type": "code",
      "metadata": {
        "id": "5Xrp-HsdcsqV",
        "colab_type": "code",
        "colab": {
          "base_uri": "https://localhost:8080/",
          "height": 34
        },
        "outputId": "1f2a85ad-132b-4cfc-846a-e8724c9e98d1"
      },
      "source": [
        "#Split the training and testing data using train_test_split\n",
        "train_data,test_data,train_labels,test_labels = train_test_split(data,labels,random_state =1)\n",
        "\n",
        "# Create a random forest classifier\n",
        "forest = RandomForestClassifier(random_state=1)\n",
        "forest.fit(train_data,train_labels) #Fit training data to random forest\n",
        "print(forest.feature_importances_)"
      ],
      "execution_count": 21,
      "outputs": [
        {
          "output_type": "stream",
          "text": [
            "[0.291038   0.11806622 0.2002952  0.06405086 0.31484021 0.01170953]\n"
          ],
          "name": "stdout"
        }
      ]
    },
    {
      "cell_type": "code",
      "metadata": {
        "id": "7P0_WBG0cxNc",
        "colab_type": "code",
        "colab": {
          "base_uri": "https://localhost:8080/",
          "height": 136
        },
        "outputId": "bc191cc9-ea63-497f-ff70-a12b362ea3a1"
      },
      "source": [
        "print(forest.score(test_data, test_labels)) #Gives percent of accuracy\n",
        "print(income_data[\"race\"].value_counts())"
      ],
      "execution_count": 22,
      "outputs": [
        {
          "output_type": "stream",
          "text": [
            "0.8258199238422799\n",
            "White                 27816\n",
            "Black                  3124\n",
            "Asian-Pac-Islander     1039\n",
            "Amer-Indian-Eskimo      311\n",
            "Other                   271\n",
            "Name: race, dtype: int64\n"
          ],
          "name": "stdout"
        }
      ]
    }
  ]
}